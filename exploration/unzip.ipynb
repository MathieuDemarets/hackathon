{
 "cells": [
  {
   "cell_type": "code",
   "execution_count": 1,
   "metadata": {},
   "outputs": [],
   "source": [
    "import os\n",
    "import zipfile"
   ]
  },
  {
   "cell_type": "code",
   "execution_count": 2,
   "metadata": {},
   "outputs": [],
   "source": [
    "# Extract the zip download\n",
    "\n",
    "def extract_zip(dir_path, inplace=False):\n",
    "    \"\"\"Extract any zip file in the directory\n",
    "\n",
    "    Parameters\n",
    "    ----------\n",
    "    dir_path : str\n",
    "        The directory path where the zip file is located\n",
    "    inplace : bool, optional\n",
    "        Delete the zip file after extraction, by default False\n",
    "\n",
    "    Returns\n",
    "    -------\n",
    "    None\n",
    "        The function does not return anything, it just extracts the zip file\n",
    "    \"\"\"\n",
    "    no_zip = True\n",
    "    for file in os.listdir(dir_path):\n",
    "        if file.endswith('.zip'):\n",
    "            file_path = os.path.join(dir_path, file)\n",
    "            zip_file = zipfile.ZipFile(file_path)\n",
    "            zip_file.extractall(dir_path)\n",
    "            zip_file.close()\n",
    "            if inplace:\n",
    "                os.remove(file_path)\n",
    "            no_zip = False\n",
    "            print(f\"{file} has been extracted\")\n",
    "            break\n",
    "    if no_zip:\n",
    "        print(\"No zip file found\")"
   ]
  },
  {
   "cell_type": "code",
   "execution_count": 3,
   "metadata": {},
   "outputs": [
    {
     "name": "stdout",
     "output_type": "stream",
     "text": [
      "110m_cultural.zip has been extracted\n"
     ]
    }
   ],
   "source": [
    "extract_zip(\"../data/\", inplace=True)"
   ]
  }
 ],
 "metadata": {
  "kernelspec": {
   "display_name": ".venv",
   "language": "python",
   "name": "python3"
  },
  "language_info": {
   "codemirror_mode": {
    "name": "ipython",
    "version": 3
   },
   "file_extension": ".py",
   "mimetype": "text/x-python",
   "name": "python",
   "nbconvert_exporter": "python",
   "pygments_lexer": "ipython3",
   "version": "3.12.2"
  }
 },
 "nbformat": 4,
 "nbformat_minor": 2
}
