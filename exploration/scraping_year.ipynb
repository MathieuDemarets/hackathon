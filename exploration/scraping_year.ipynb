{
 "cells": [
  {
   "cell_type": "code",
   "execution_count": 44,
   "metadata": {},
   "outputs": [],
   "source": [
    "import pandas as pd\n",
    "import matplotlib.pyplot as plt\n",
    "import numpy as np\n",
    "import requests\n",
    "import time\n",
    "from bs4 import BeautifulSoup\n",
    "from selenium import webdriver"
   ]
  },
  {
   "cell_type": "markdown",
   "metadata": {},
   "source": [
    "# Search movie title on IMDB"
   ]
  },
  {
   "cell_type": "code",
   "execution_count": 45,
   "metadata": {},
   "outputs": [],
   "source": [
    "from selenium.webdriver.common.by import By\n",
    "from selenium.webdriver.support.ui import WebDriverWait\n",
    "from selenium.webdriver.support import expected_conditions as EC\n",
    "\n",
    "options = webdriver.ChromeOptions()\n",
    "# options.experimental_options[\"prefs\"] = {\n",
    "#     \"profile.managed_default_content_settings.images\": 2,\n",
    "#     \"profile.managed_default_content_settings.css\": 2\n",
    "# }\n",
    "driver = webdriver.Chrome(options=options)\n",
    "wait = WebDriverWait(driver, 20)\n",
    "\n",
    "url = \"https://www.imdb.com/\"\n",
    "driver.get(url)"
   ]
  },
  {
   "cell_type": "code",
   "execution_count": 46,
   "metadata": {},
   "outputs": [],
   "source": [
    "def find_movie_year(movie_name):\n",
    "    typetext = wait.until(EC.element_to_be_clickable((By.ID, \"suggestion-search\")))\n",
    "    typetext.click()\n",
    "    typetext.send_keys(movie_name)\n",
    "    typetext.submit()\n",
    "    soup = BeautifulSoup(driver.page_source, 'html.parser')\n",
    "    year = soup.find(\"span\", class_=\"ipc-metadata-list-summary-item__li\").text\n",
    "    try:\n",
    "        year = int(year)\n",
    "    except:\n",
    "        try:\n",
    "            year = int(year.split(\"–\")[0])\n",
    "        except:\n",
    "            year = np.nan\n",
    "    finally:\n",
    "        return year"
   ]
  },
  {
   "cell_type": "code",
   "execution_count": 48,
   "metadata": {},
   "outputs": [
    {
     "data": {
      "text/plain": [
       "2004"
      ]
     },
     "execution_count": 48,
     "metadata": {},
     "output_type": "execute_result"
    }
   ],
   "source": [
    "find_movie_year(\"Oceans\")"
   ]
  },
  {
   "cell_type": "code",
   "execution_count": 47,
   "metadata": {},
   "outputs": [
    {
     "name": "stdout",
     "output_type": "stream",
     "text": [
      "Miami Vice was released in 1984\n",
      "The Spanish Prisoner was released in 1997\n",
      "Conan the Barbarian was released in 1982\n",
      "The Core was released in 2003\n",
      "Dredd was released in 2012\n",
      "Creepshow was released in 2019\n",
      "Battlefield Earth was released in 2000\n",
      "Oceans was released in nan\n",
      "A Sound of Thunder was released in 2005\n",
      "Top Cat Begins was released in 2015\n",
      "CPU times: total: 750 ms\n",
      "Wall time: 24.8 s\n"
     ]
    }
   ],
   "source": [
    "%%time\n",
    "pre = pd.read_csv(\"../data/pre_release.csv\")\n",
    "for movie in pre.head(10)[\"movie_title\"]:\n",
    "    movie = movie.strip()\n",
    "    print(f\"{movie} was released in {find_movie_year(movie)}\")"
   ]
  }
 ],
 "metadata": {
  "kernelspec": {
   "display_name": ".venv",
   "language": "python",
   "name": "python3"
  },
  "language_info": {
   "codemirror_mode": {
    "name": "ipython",
    "version": 3
   },
   "file_extension": ".py",
   "mimetype": "text/x-python",
   "name": "python",
   "nbconvert_exporter": "python",
   "pygments_lexer": "ipython3",
   "version": "3.12.2"
  }
 },
 "nbformat": 4,
 "nbformat_minor": 2
}
